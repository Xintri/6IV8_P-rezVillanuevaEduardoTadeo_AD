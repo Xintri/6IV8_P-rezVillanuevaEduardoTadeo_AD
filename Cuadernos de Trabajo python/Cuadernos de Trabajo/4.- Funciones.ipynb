{
 "cells": [
  {
   "cell_type": "markdown",
   "id": "69901415-871c-4128-94ba-7cb605818be1",
   "metadata": {},
   "source": [
    "# 4.- Funciones"
   ]
  },
  {
   "cell_type": "markdown",
   "id": "82a4386e-b878-475e-b82d-03dbcb9d44d3",
   "metadata": {},
   "source": [
    "## 4.2.- Función def"
   ]
  },
  {
   "cell_type": "markdown",
   "id": "8e864b12-a5a9-4cde-b565-a59929d9d7eb",
   "metadata": {},
   "source": [
    "Vamos a comenzar creando una funcion que tome un número y devuelva su raiz cuadrada"
   ]
  },
  {
   "cell_type": "code",
   "execution_count": 1,
   "id": "c555a87f-f94f-4dfb-ac88-4bd40e1f2c96",
   "metadata": {},
   "outputs": [],
   "source": [
    "def llamador(num):\n",
    "    return num**(1/2)\n"
   ]
  },
  {
   "cell_type": "code",
   "execution_count": 2,
   "id": "315753b7-f2b8-46d8-a61c-499e912f468a",
   "metadata": {},
   "outputs": [
    {
     "data": {
      "text/plain": [
       "2.0"
      ]
     },
     "execution_count": 2,
     "metadata": {},
     "output_type": "execute_result"
    }
   ],
   "source": [
    "llamador(4)"
   ]
  },
  {
   "cell_type": "markdown",
   "id": "a034c45f-dd3c-4e3b-b4b5-4c266b7eb003",
   "metadata": {},
   "source": [
    "Las funciones también las podemos llamar desde otras expresiones como print"
   ]
  },
  {
   "cell_type": "code",
   "execution_count": 3,
   "id": "24499624-16fa-4b44-b50d-a0a77dd65543",
   "metadata": {},
   "outputs": [
    {
     "name": "stdout",
     "output_type": "stream",
     "text": [
      "9.0\n"
     ]
    }
   ],
   "source": [
    "print(llamador(81))"
   ]
  },
  {
   "cell_type": "markdown",
   "id": "5fa7a304-a3ac-49f8-a9c7-985ff3cd4738",
   "metadata": {},
   "source": [
    "Muchas funciones ponemos ? para saber como se usa la función"
   ]
  },
  {
   "cell_type": "code",
   "execution_count": 4,
   "id": "48187ac5-0ca4-4412-9b2c-8dc240a0a891",
   "metadata": {},
   "outputs": [
    {
     "name": "stdout",
     "output_type": "stream",
     "text": [
      "\u001b[1;31mSignature:\u001b[0m \u001b[0mllamador\u001b[0m\u001b[1;33m(\u001b[0m\u001b[0mnum\u001b[0m\u001b[1;33m)\u001b[0m\u001b[1;33m\u001b[0m\u001b[1;33m\u001b[0m\u001b[0m\n",
      "\u001b[1;31mDocstring:\u001b[0m <no docstring>\n",
      "\u001b[1;31mFile:\u001b[0m      c:\\users\\mimos\\appdata\\local\\temp\\ipykernel_11148\\3293849059.py\n",
      "\u001b[1;31mType:\u001b[0m      function"
     ]
    }
   ],
   "source": [
    "llamador?"
   ]
  },
  {
   "cell_type": "markdown",
   "id": "55e03a1c-54ea-4685-b6e0-1880a7073360",
   "metadata": {},
   "source": [
    "#### Por tu cuenta\n",
    "\n",
    "Define una función que calcule la raiz cubica de un numero dado"
   ]
  },
  {
   "cell_type": "code",
   "execution_count": 33,
   "id": "3e9e8b00-c189-400d-b1ba-467fe444b379",
   "metadata": {},
   "outputs": [
    {
     "data": {
      "text/plain": [
       "2.0"
      ]
     },
     "execution_count": 33,
     "metadata": {},
     "output_type": "execute_result"
    }
   ],
   "source": [
    "numero = int(input(\"ingresa un numero: \"))\n",
    "\n",
    "def raiz(numero):\n",
    "    return numero**(1/3)\n",
    "\n",
    "raiz(numero)"
   ]
  },
  {
   "cell_type": "markdown",
   "id": "dc1856d4-be0c-4cc6-b217-10fb4bab5fe6",
   "metadata": {},
   "source": [
    "## 4.3.- Funciones con Múltiples Parámetros"
   ]
  },
  {
   "cell_type": "markdown",
   "id": "1f12cc0d-bd8e-45a9-b1b8-f976783ccf4f",
   "metadata": {},
   "source": [
    "Ahora armaremos una función usando IF que nos dice cual es la raiz cuadrada más grande de 3 números"
   ]
  },
  {
   "cell_type": "code",
   "execution_count": 64,
   "id": "8f4f0077-7108-42ce-942e-e12ee8744582",
   "metadata": {},
   "outputs": [
    {
     "name": "stdout",
     "output_type": "stream",
     "text": [
      "La raiz del numero más grande es: 3.0\n"
     ]
    }
   ],
   "source": [
    "num1 = int(input(\"ingrese el num1: \"))\n",
    "num2 = int(input(\"ingrese el num2: \"))\n",
    "num3 = int(input(\"ingrese el num3: \"))\n",
    "maximo = 0\n",
    "\n",
    "def comparacion(num1, num2, num3, maximo):\n",
    "    pos1 = num1 **(1/2)\n",
    "    pos2 = num2 **(1/2)\n",
    "    pos3 = num3 **(1/2)\n",
    "\n",
    "    if pos1 > pos2:\n",
    "        maximo = pos1\n",
    "    elif pos2 > pos3:\n",
    "        maximo = pos2\n",
    "    else:\n",
    "        maximo = pos3\n",
    "\n",
    "    return maximo\n",
    "\n",
    "print(\"La raiz del numero más grande es: \" + str(comparacion(num1, num2, num3, maximo)))"
   ]
  },
  {
   "cell_type": "markdown",
   "id": "21bdb948-fa7a-4c21-9acb-6ae8266aa3e6",
   "metadata": {},
   "source": [
    "Por si las dudas, esto se podría haber simplificado usando Max y Min"
   ]
  },
  {
   "cell_type": "code",
   "execution_count": 9,
   "id": "8a495cc4-00c7-4cfb-9d0c-c35dea9683ae",
   "metadata": {},
   "outputs": [
    {
     "name": "stdout",
     "output_type": "stream",
     "text": [
      "La raiz mayor es: 2.6457513110645907\n",
      "La raiz menor es: 1.7320508075688772\n"
     ]
    }
   ],
   "source": [
    "num1 = int(input(\"Ingrese el num1: \"))\n",
    "num2 = int(input(\"Ingrese el num2: \"))\n",
    "num3 = int(input(\"Ingrese el num3: \"))\n",
    "\n",
    "numeros = [num1, num2, num3]\n",
    "\n",
    "def maximo(numeros):\n",
    "    a=num1**(1/2)\n",
    "    b=num2**(1/2)\n",
    "    c=num3**(1/2)\n",
    "    lista = [a, b, c]\n",
    "    return max(lista)\n",
    "\n",
    "mayor = maximo(numeros)\n",
    "\n",
    "print(\"La raiz mayor es: \" +  str(mayor))\n",
    "\n",
    "def minimo(numeros):\n",
    "    a=num1**(1/2)\n",
    "    b=num2**(1/2)\n",
    "    c=num3**(1/2)\n",
    "    lista=[a, b, c]\n",
    "    return min(lista)\n",
    "\n",
    "menor = minimo(numeros)\n",
    "\n",
    "print(\"La raiz menor es: \" +  str(menor))\n"
   ]
  },
  {
   "cell_type": "markdown",
   "id": "83d18c4c-e99c-4f4c-a0dc-41b41f50c6ed",
   "metadata": {},
   "source": [
    "#### Por tu cuenta\n",
    "\n",
    "Llama la función max con la lista 15,82,13,55 como argumento, yluego la min con la palabara amarillo como argumento"
   ]
  },
  {
   "cell_type": "code",
   "execution_count": 13,
   "id": "883650c9",
   "metadata": {},
   "outputs": [
    {
     "name": "stdout",
     "output_type": "stream",
     "text": [
      "amarillo\n",
      "82\n"
     ]
    }
   ],
   "source": [
    "lista = [15, 82, 13, 55]\n",
    "palabra =[\"amarillo\"]\n",
    "\n",
    "print(min(palabra))\n",
    "print(max(lista))\n",
    "\n"
   ]
  },
  {
   "cell_type": "markdown",
   "id": "2d356f80-2d18-4849-a3dd-4253cb4edcd6",
   "metadata": {},
   "source": [
    "## 4.4.- Números aleatorios"
   ]
  },
  {
   "cell_type": "markdown",
   "id": "c7ad0802-525b-4399-8fc7-454593d86ae9",
   "metadata": {},
   "source": [
    "Vamos a simular el lanzamiento de una moneda (cara o cruz), usemos la biblioteca random y simulemos 10 tiros"
   ]
  },
  {
   "cell_type": "code",
   "execution_count": 161,
   "id": "efd3d47a-b8cb-4e82-ac33-b7802b1cdd40",
   "metadata": {},
   "outputs": [
    {
     "name": "stdout",
     "output_type": "stream",
     "text": [
      "Cara\n",
      "Cruz\n",
      "Cruz\n",
      "Cruz\n",
      "Cara\n",
      "Cruz\n",
      "Cruz\n",
      "Cruz\n",
      "Cara\n",
      "Cara\n"
     ]
    }
   ],
   "source": [
    "import random\n",
    "moneda = [\"Cara\", \"Cruz\"]\n",
    "for i in range(10):\n",
    "    print(random.choice(moneda), end = '\\n')"
   ]
  },
  {
   "cell_type": "markdown",
   "id": "05cefe11-289a-44e2-a987-b443cce37ce3",
   "metadata": {},
   "source": [
    "Ejecutalo de nuevo, checa como ahora tenemos diferentes resultados"
   ]
  },
  {
   "cell_type": "markdown",
   "id": "4e02ace3-df9d-41aa-87bd-6fd2daa2d0a4",
   "metadata": {},
   "source": [
    "Ahora vamos a escribir un código que simule el lanzamiento de una moneda 100,000 veces. No vamos a mostrar 100,000 resultados, solo una pequeña tabla con todas las caras y todas la cruces"
   ]
  },
  {
   "cell_type": "code",
   "execution_count": 177,
   "id": "70ee75bc-9a07-4c56-af3b-38cc3efcd256",
   "metadata": {},
   "outputs": [
    {
     "name": "stdout",
     "output_type": "stream",
     "text": [
      "Salieron: 500515\n",
      "Salieron: 499485\n"
     ]
    }
   ],
   "source": [
    "import random\n",
    "moneda = [\"Cara\", \"Cruz\"]\n",
    "lanzamientos = []\n",
    "\n",
    "for i in range(1000000):\n",
    "    lanzamientos.append(random.choice(moneda))\n",
    "\n",
    "caras = lanzamientos.count(\"Cara\")\n",
    "cruces = lanzamientos.count(\"Cruz\")\n",
    "print(\"Salieron: \" + str(caras))\n",
    "print(\"Salieron: \" + str(cruces))"
   ]
  },
  {
   "cell_type": "markdown",
   "id": "5ac8c289-07af-4305-a7b0-a47f551d142a",
   "metadata": {},
   "source": [
    "Si queremos obligar a que random sieeeempre nos de los mismos resultados, podemos usar seed. Arma una semilla de 25 y ejecuta el código 2 veces, checa como se repita (seed necesita repetirse 2 veces tmb)"
   ]
  },
  {
   "cell_type": "code",
   "execution_count": 225,
   "id": "06562bd7-2288-4e71-b817-55aeae5017b4",
   "metadata": {},
   "outputs": [
    {
     "name": "stdout",
     "output_type": "stream",
     "text": [
      "48 98 1 27 39 81 60 5 96 32 4 39 72 54 12 75 15 73 87 93 "
     ]
    }
   ],
   "source": [
    "import random\n",
    "random.seed(25)\n",
    "for i in range(20):\n",
    "    print(random.randrange(0,100), end = \" \")"
   ]
  },
  {
   "cell_type": "markdown",
   "id": "ae4f4e14-ebd5-45f8-a8e4-9b31641a0af1",
   "metadata": {},
   "source": [
    "Es momento de jugar a \"El Gran 8\". \n",
    "\n",
    "Lo primero será lanzar un par de dados - arma una función que simule 2 dados y devuelva los valores que cayeron"
   ]
  },
  {
   "cell_type": "code",
   "execution_count": 357,
   "id": "07d2eda1-61af-4814-89da-822a1cb05e01",
   "metadata": {},
   "outputs": [
    {
     "name": "stdout",
     "output_type": "stream",
     "text": [
      "6\n",
      "1\n"
     ]
    }
   ],
   "source": [
    "import random\n",
    "\n",
    "\n",
    "for i in range(1):\n",
    "    dado1 = random.randrange(1, 7)\n",
    "    dado2 = random.randrange(1, 7)\n",
    "\n",
    "print(dado1, end = \"\\n\")\n",
    "print(dado2)\n"
   ]
  },
  {
   "cell_type": "markdown",
   "id": "6c524cee-4fb0-496d-b33b-343a1b9d6d62",
   "metadata": {},
   "source": [
    "Ahora arma una función que muestre la suma de los resultados de los 2 dados"
   ]
  },
  {
   "cell_type": "code",
   "execution_count": 358,
   "id": "f64c316a-f793-41ed-a4c0-68d014fbe816",
   "metadata": {},
   "outputs": [
    {
     "name": "stdout",
     "output_type": "stream",
     "text": [
      "7\n"
     ]
    }
   ],
   "source": [
    "suma = dado1 + dado2\n",
    "print(suma)"
   ]
  },
  {
   "cell_type": "markdown",
   "id": "c5eb4532-dce4-4397-b753-223bb5030a8f",
   "metadata": {},
   "source": [
    "Ahora necesitamos una variable que almacene el resutlado de lanzar los dados (funcion 1) y otra que sume los resultados de la función 1."
   ]
  },
  {
   "cell_type": "code",
   "execution_count": 420,
   "id": "9f51af4c-2def-494b-b7a2-9201414a4019",
   "metadata": {},
   "outputs": [
    {
     "name": "stdout",
     "output_type": "stream",
     "text": [
      "Tirada:\n",
      "([1], [4])\n",
      "Suma:\n",
      "5\n"
     ]
    }
   ],
   "source": [
    "import random\n",
    "tiro1 = []\n",
    "tiro2 = []\n",
    "\n",
    "for i in range(1):\n",
    "    tiroR1 = random.randrange(1, 7)\n",
    "    tiroR2 = random.randrange(1, 7)\n",
    "\n",
    "dado1 = tiroR1\n",
    "dado2 = tiroR2\n",
    "\n",
    "def dados(dado1, dado2):\n",
    "    tiro1.append(dado1)\n",
    "    tiro2.append(dado2)\n",
    "    return tiro1, tiro2\n",
    "\n",
    "print(\"Tirada:\")\n",
    "print(dados(dado1, dado2))\n",
    "\n",
    "def suma(dado1, dado2):\n",
    "    return dado1+dado2\n",
    "\n",
    "print(\"Suma:\")\n",
    "suma = suma(dado1, dado2)\n",
    "print(suma)\n"
   ]
  },
  {
   "cell_type": "markdown",
   "id": "21576096-58ea-4bd7-9e1b-bbe197aa08f2",
   "metadata": {},
   "source": [
    "Ahora, vamos  a simular las consecuencias del primer tiro - si la suma es 8, ganaste, si es 7, perdiste, y si no, continuamos"
   ]
  },
  {
   "cell_type": "code",
   "execution_count": 481,
   "id": "b35649ce-62bb-48fe-904a-089dccb42867",
   "metadata": {},
   "outputs": [
    {
     "name": "stdout",
     "output_type": "stream",
     "text": [
      "Tirada:\n",
      "([2], [2])\n",
      "Suma:\n",
      "4\n",
      "Vuelve a tirar\n"
     ]
    }
   ],
   "source": [
    "import random\n",
    "tiro1 = []\n",
    "tiro2 = []\n",
    "\n",
    "for i in range(1):\n",
    "    tiroR1 = random.randrange(1, 7)\n",
    "    tiroR2 = random.randrange(1, 7)\n",
    "\n",
    "dado1 = tiroR1\n",
    "dado2 = tiroR2\n",
    "\n",
    "def dados(dado1, dado2):\n",
    "    tiro1.append(dado1)\n",
    "    tiro2.append(dado2)\n",
    "    return tiro1, tiro2\n",
    "\n",
    "print(\"Tirada:\")\n",
    "print(dados(dado1, dado2))\n",
    "\n",
    "def suma(dado1, dado2):\n",
    "    return dado1+dado2\n",
    "\n",
    "print(\"Suma:\")\n",
    "suma = suma(dado1, dado2)\n",
    "print(suma)\n",
    "\n",
    "if suma == 8:\n",
    "    print(\"GANASTE!\")\n",
    "elif suma == 7:\n",
    "    print(\"Perdiste D:\")\n",
    "else:\n",
    "    print(\"Vuelve a tirar\")"
   ]
  },
  {
   "cell_type": "markdown",
   "id": "34507a56-d650-4156-b1f2-d485a9b3634e",
   "metadata": {},
   "source": [
    "Y ahora con un bucle vamos a seguir el juego, se relanzan los dados y si se hace un bucle while que mientras que no haya un resultado de 6,8, o 7, se sigue tirando, si no se define si se ganó o se perdió"
   ]
  },
  {
   "cell_type": "code",
   "execution_count": 532,
   "id": "0142cde5-6158-4c73-bbf4-e2d48efcd532",
   "metadata": {},
   "outputs": [
    {
     "name": "stdout",
     "output_type": "stream",
     "text": [
      "4 1\n",
      "la suma fue de: 5\n",
      "Perdiste D:\n",
      "2 5\n",
      "La suma fue de: 7\n",
      "GANASTE!\n"
     ]
    }
   ],
   "source": [
    "import random\n",
    "\n",
    "while True:\n",
    "    tiroR1 = random.randrange(1, 7)\n",
    "    tiroR2 = random.randrange(1, 7)\n",
    "\n",
    "    print(tiroR1, tiroR2)\n",
    "\n",
    "    suma = tiroR1 + tiroR2\n",
    "\n",
    "    if suma in [6, 7, 8]:\n",
    "        print(\"La suma fue de: \" + str(suma))\n",
    "        print(\"GANASTE!\")\n",
    "        break\n",
    "    else:\n",
    "        print(\"la suma fue de: \" + str(suma))\n",
    "        print(\"Perdiste D:\")\n"
   ]
  },
  {
   "cell_type": "markdown",
   "id": "e330a41d-998a-4dd8-a8b9-51d255f0464d",
   "metadata": {},
   "source": [
    "Ahora unifica todo el código"
   ]
  },
  {
   "cell_type": "markdown",
   "id": "6c9e079c-3683-4901-a856-0bc24d2ea3b5",
   "metadata": {},
   "source": [
    "#### Por tu cuenta\n",
    "\n",
    "Usa un bucle for, randrange y una expresión condicional para simular 20 tiros de moneda, mosrando A para águila y S para Sol"
   ]
  },
  {
   "cell_type": "code",
   "execution_count": 545,
   "id": "24ea22a4-3fea-416b-af85-6a026c4ca9e7",
   "metadata": {},
   "outputs": [
    {
     "name": "stdout",
     "output_type": "stream",
     "text": [
      "S\n",
      "A\n",
      "S\n",
      "A\n",
      "S\n",
      "S\n",
      "A\n",
      "S\n",
      "A\n",
      "A\n",
      "A\n",
      "S\n",
      "S\n",
      "A\n",
      "A\n",
      "S\n",
      "S\n",
      "A\n",
      "S\n",
      "S\n"
     ]
    }
   ],
   "source": [
    "import random\n",
    "\n",
    "for i in range(20):\n",
    "    moneda = random.randrange(0,2)\n",
    "\n",
    "    if moneda == 0:\n",
    "        print(\"A\")\n",
    "    else:\n",
    "        print(\"S\")"
   ]
  },
  {
   "cell_type": "markdown",
   "id": "902a0cb5-4b49-40f2-b285-afd87b760f18",
   "metadata": {},
   "source": [
    "## 4.5.- Funciones sin parámetros y múltiples parámetros"
   ]
  },
  {
   "cell_type": "markdown",
   "id": "71dd025d-bf4b-4c68-99b5-0cb72614740e",
   "metadata": {},
   "source": [
    "def raizcuadra(numero):\n",
    "    \"\"\"Esta función saca la raiz cuadra de un número\"\"\"\n",
    "    return numero ** (1/2)Se acuerdan de la primer funcion que hicimos? Que pasa si la corremos sin parametro?"
   ]
  },
  {
   "cell_type": "code",
   "execution_count": 551,
   "id": "e381d145-b1cb-46c5-99b9-9f83e90964bd",
   "metadata": {},
   "outputs": [
    {
     "name": "stdout",
     "output_type": "stream",
     "text": [
      "3.0\n"
     ]
    }
   ],
   "source": [
    "def raizcuadra(numero):\n",
    "    \"\"\"Esta función saca la raíz cuadrada de un número.\"\"\"\n",
    "    return numero ** 0.5\n",
    "\n",
    "print(raizcuadra(9))\n"
   ]
  },
  {
   "cell_type": "markdown",
   "id": "010114c1-509a-4cc1-a388-ca28850d9932",
   "metadata": {},
   "source": [
    "Asigna un parametro estandar para evitar este error"
   ]
  },
  {
   "cell_type": "markdown",
   "id": "6c3d4102-a3b3-40de-a916-1df8e54b4a29",
   "metadata": {},
   "source": [
    "También, hay funciones que pueden aceptar una cantidad indefinida de parametros - arma una función llamada promedio_calif que te diga el promedio de una cantidad arbitraria de calificaciones"
   ]
  },
  {
   "cell_type": "code",
   "execution_count": 552,
   "id": "a3fc7b58-87e9-441e-9772-14f961c0f1b4",
   "metadata": {},
   "outputs": [],
   "source": [
    "def promedio_calif(*calif):\n",
    "    return sum(calif)/len(calif)"
   ]
  },
  {
   "cell_type": "code",
   "execution_count": 555,
   "id": "27b2e996-20e0-4093-99f6-dbf330689d39",
   "metadata": {},
   "outputs": [
    {
     "data": {
      "text/plain": [
       "35.5"
      ]
     },
     "execution_count": 555,
     "metadata": {},
     "output_type": "execute_result"
    }
   ],
   "source": [
    "promedio_calif(1,2,45,342,43,432,44,1,1,1,11,0,0,0,00,00,0,0,0,0,0,0,0,0,0,0)"
   ]
  },
  {
   "cell_type": "markdown",
   "id": "e3f6b2e9-4ed4-4c34-81b1-e60ca1b59bff",
   "metadata": {},
   "source": [
    "#### Por tu cuenta\n",
    "\n",
    "Arma una función que reciba una cantidad arbitraria de argumentos y calcule el producto de multiplicarlos todos entre ellos"
   ]
  },
  {
   "cell_type": "code",
   "execution_count": 560,
   "id": "1e1d13b9-3cb1-43e5-9cf9-b6da52643a78",
   "metadata": {},
   "outputs": [],
   "source": [
    "def mult_arbitraria(*numeros):\n",
    "    resultado = 1\n",
    "\n",
    "    for numero in numeros:\n",
    "        resultado *= numero\n",
    "\n",
    "    return resultado"
   ]
  },
  {
   "cell_type": "code",
   "execution_count": 565,
   "id": "0be5568a-6d23-4fcb-bbde-8c8fd120828d",
   "metadata": {},
   "outputs": [
    {
     "data": {
      "text/plain": [
       "3628800"
      ]
     },
     "execution_count": 565,
     "metadata": {},
     "output_type": "execute_result"
    }
   ],
   "source": [
    "mult_arbitraria(1,2,3,4,5,6,7,8,9,10)"
   ]
  },
  {
   "cell_type": "markdown",
   "id": "6892461b-49af-466b-b947-2e649586b5d5",
   "metadata": {},
   "source": [
    "## 4.6.- Alcance Local y Global"
   ]
  },
  {
   "cell_type": "markdown",
   "id": "1c759b58-4b0f-4e11-9a61-af3ee94a26e6",
   "metadata": {},
   "source": [
    "Recordemos nuestra función de raiz cuadrada"
   ]
  },
  {
   "cell_type": "code",
   "execution_count": 566,
   "id": "47693ade-1834-4d6f-b5d2-1582b62d02af",
   "metadata": {},
   "outputs": [],
   "source": [
    "def raiz_cuad(número = 1):\n",
    "    \"\"\"Calcula la raíz cuadrada de un número.\"\"\"\n",
    "    return número ** (1/2)"
   ]
  },
  {
   "cell_type": "code",
   "execution_count": 567,
   "id": "0fff8b16-95e3-4138-be6d-4e7296ba2535",
   "metadata": {},
   "outputs": [
    {
     "data": {
      "text/plain": [
       "8.0"
      ]
     },
     "execution_count": 567,
     "metadata": {},
     "output_type": "execute_result"
    }
   ],
   "source": [
    "raiz_cuad(64)"
   ]
  },
  {
   "cell_type": "code",
   "execution_count": 568,
   "id": "390db399-8b11-49e4-9d96-09597a3ed6c4",
   "metadata": {},
   "outputs": [],
   "source": [
    "aprox_pi = 3.141\n"
   ]
  },
  {
   "cell_type": "code",
   "execution_count": 569,
   "id": "d8fc0616-47e6-49d1-a9d3-b3509686734c",
   "metadata": {},
   "outputs": [],
   "source": [
    "def acceso_global_pi():\n",
    "    print('aprox_pi es llamada de acceso_global_pi como:',aprox_pi)"
   ]
  },
  {
   "cell_type": "code",
   "execution_count": 570,
   "id": "3b536999-dbf9-4b0d-ba9e-ed349124837a",
   "metadata": {},
   "outputs": [
    {
     "name": "stdout",
     "output_type": "stream",
     "text": [
      "aprox_pi es llamada de acceso_global_pi como: 3.141\n"
     ]
    }
   ],
   "source": [
    "acceso_global_pi()\n"
   ]
  },
  {
   "cell_type": "code",
   "execution_count": 571,
   "id": "9583cbc4-7839-4a44-b549-582437f1e17f",
   "metadata": {},
   "outputs": [],
   "source": [
    "def intento_modificar_global_pi():\n",
    "    aprox_pi=3.1416\n",
    "    print('Modificación de aprox_pi como:',aprox_pi)\n"
   ]
  },
  {
   "cell_type": "code",
   "execution_count": 573,
   "id": "f4dcf9c9-8e0f-41c3-9fe9-ba08e16b6666",
   "metadata": {},
   "outputs": [
    {
     "name": "stdout",
     "output_type": "stream",
     "text": [
      "Modificación de aprox_pi como: 3.1416\n"
     ]
    }
   ],
   "source": [
    "intento_modificar_global_pi()\n"
   ]
  },
  {
   "cell_type": "code",
   "execution_count": 574,
   "id": "c51d8d48-1463-4ebb-9cc5-87390cffed33",
   "metadata": {},
   "outputs": [
    {
     "data": {
      "text/plain": [
       "3.141"
      ]
     },
     "execution_count": 574,
     "metadata": {},
     "output_type": "execute_result"
    }
   ],
   "source": [
    "aprox_pi\n"
   ]
  },
  {
   "cell_type": "markdown",
   "id": "92d9d3b6-d1ae-480d-9026-b605aa24245f",
   "metadata": {},
   "source": [
    "Define la variable aprox pi =3.141 y luego define una función que llame a esta variable de acceso global"
   ]
  },
  {
   "cell_type": "markdown",
   "id": "90a3042c-1f46-4ef1-9f19-9cae0aeae31f",
   "metadata": {},
   "source": [
    "Intenta modificar aprox pi desde una función - verás que python no lo hace, solo modifica una copia"
   ]
  },
  {
   "cell_type": "markdown",
   "id": "5e3fc9f1-f1c8-419e-a7ad-ad015daa9ada",
   "metadata": {},
   "source": [
    "## 4.7.- El módulo de matemáticas de Python"
   ]
  },
  {
   "cell_type": "markdown",
   "id": "66a15356-6461-4202-a7d0-56526d3c1536",
   "metadata": {},
   "source": [
    "Calcula el log10 de 1000"
   ]
  },
  {
   "cell_type": "code",
   "execution_count": 575,
   "id": "d04ec048-5865-4040-a3f2-3b3cbcb1d40a",
   "metadata": {},
   "outputs": [
    {
     "ename": "NameError",
     "evalue": "name 'log10' is not defined",
     "output_type": "error",
     "traceback": [
      "\u001b[1;31m---------------------------------------------------------------------------\u001b[0m",
      "\u001b[1;31mNameError\u001b[0m                                 Traceback (most recent call last)",
      "Cell \u001b[1;32mIn[575], line 1\u001b[0m\n\u001b[1;32m----> 1\u001b[0m \u001b[43mlog10\u001b[49m(\u001b[38;5;241m1000\u001b[39m)\n",
      "\u001b[1;31mNameError\u001b[0m: name 'log10' is not defined"
     ]
    }
   ],
   "source": [
    "log10(1000)\n"
   ]
  },
  {
   "cell_type": "markdown",
   "id": "2db1131d-227b-46fe-aa43-ea83fd7ff1bc",
   "metadata": {},
   "source": [
    "Importa la librería math"
   ]
  },
  {
   "cell_type": "code",
   "execution_count": 576,
   "id": "4252d1a8-4e52-43d1-a5a4-045def644677",
   "metadata": {},
   "outputs": [],
   "source": [
    "import math"
   ]
  },
  {
   "cell_type": "markdown",
   "id": "4cebaf0a-a127-4a90-971a-a306d39ebc10",
   "metadata": {},
   "source": [
    "ahora si, calcula el log10 de 1000"
   ]
  },
  {
   "cell_type": "code",
   "execution_count": 577,
   "id": "47bf2d24-fcb4-4907-92e7-af142e2afded",
   "metadata": {},
   "outputs": [
    {
     "data": {
      "text/plain": [
       "2.0"
      ]
     },
     "execution_count": 577,
     "metadata": {},
     "output_type": "execute_result"
    }
   ],
   "source": [
    "math.log10(100)"
   ]
  },
  {
   "cell_type": "markdown",
   "id": "1494d2e2-c5f0-4426-bd28-3ccea38d7b09",
   "metadata": {},
   "source": [
    "## 4.8.- Medidas de tendencia central y Dispersión"
   ]
  },
  {
   "cell_type": "markdown",
   "id": "68b9172a-f029-4f3c-83d1-545ff8937e5a",
   "metadata": {},
   "source": [
    "Importa la librería d eestadistica, y crea una lista de calificaciones aleatorias entre 50 y 100"
   ]
  },
  {
   "cell_type": "code",
   "execution_count": 634,
   "id": "06d77b88-6f25-4ee2-81c9-deb91bde85d4",
   "metadata": {},
   "outputs": [
    {
     "name": "stdout",
     "output_type": "stream",
     "text": [
      "[71, 50, 66, 81, 96, 80, 77, 55, 97, 82, 55, 60, 89, 62, 70, 72, 93, 95, 62, 72, 53, 61, 78, 98, 92, 83, 63, 90, 100, 74]\n",
      "Media: 75.9 \n",
      "Moda: 55 \n",
      "Mediana: 75.5 \n",
      "Varianza: 228.5758620689655 \n",
      "Rango: 50 \n",
      "Desviacion: 15.118725543807107\n"
     ]
    }
   ],
   "source": [
    "import statistics\n",
    "import random\n",
    "lista = []\n",
    "\n",
    "for i in range(30):\n",
    "    lista.append(random.randrange(50, 101))\n",
    "print(lista)\n",
    "\n",
    "media = statistics.mean(lista)\n",
    "moda = statistics.mode(lista)\n",
    "mediana = statistics.median(lista)\n",
    "varianza = statistics.variance(lista)\n",
    "rango = max(lista) - min(lista)\n",
    "desviacion = statistics.stdev(lista)\n",
    "\n",
    "print(\"Media:\", media,\n",
    "    \"\\nModa:\", moda,\n",
    "    \"\\nMediana:\", mediana,\n",
    "    \"\\nVarianza:\", varianza,\n",
    "    \"\\nRango:\", rango,\n",
    "    \"\\nDesviacion:\", desviacion)\n",
    "\n"
   ]
  },
  {
   "cell_type": "markdown",
   "id": "77e5a078-1a94-4fc1-acb0-4ae291e3ea0c",
   "metadata": {},
   "source": [
    "Calcula las medidas de tendencia central"
   ]
  },
  {
   "cell_type": "markdown",
   "id": "d0b2cda1-016b-4f15-8663-586820f6aae0",
   "metadata": {},
   "source": [
    "Calcula las medidas de dispersión"
   ]
  },
  {
   "cell_type": "markdown",
   "id": "e55f2a84-65b1-4e86-b4d4-9be69022fdc2",
   "metadata": {},
   "source": [
    "#### Por tu cuenta\n",
    "\n",
    "Para los numeros del 1 al 20, calcula la varianza y la desviacion estandar - compara con la varianza poblacional y la desviacion estandar poblacional"
   ]
  },
  {
   "cell_type": "code",
   "execution_count": 642,
   "id": "cd42d159",
   "metadata": {},
   "outputs": [
    {
     "name": "stdout",
     "output_type": "stream",
     "text": [
      "Varianza: 35 \n",
      "Desviacion Estandar: 5.916079783099616\n"
     ]
    }
   ],
   "source": [
    "import statistics\n",
    "lista=[]\n",
    "\n",
    "for i in range(1, 21):\n",
    "    lista.append(i)\n",
    "\n",
    "varianza = statistics.variance(lista)\n",
    "desviacion = statistics.stdev(lista)\n",
    "\n",
    "print(\"Varianza:\", varianza,\n",
    "    \"\\nDesviacion Estandar:\", desviacion)"
   ]
  }
 ],
 "metadata": {
  "kernelspec": {
   "display_name": "Python 3",
   "language": "python",
   "name": "python3"
  },
  "language_info": {
   "codemirror_mode": {
    "name": "ipython",
    "version": 3
   },
   "file_extension": ".py",
   "mimetype": "text/x-python",
   "name": "python",
   "nbconvert_exporter": "python",
   "pygments_lexer": "ipython3",
   "version": "3.13.2"
  }
 },
 "nbformat": 4,
 "nbformat_minor": 5
}
